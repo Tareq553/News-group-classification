{
 "cells": [
  {
   "cell_type": "markdown",
   "metadata": {
    "id": "2cdqC8NPPJfR"
   },
   "source": [
    "Necessary libraries"
   ]
  },
  {
   "cell_type": "code",
   "execution_count": 14,
   "metadata": {
    "id": "mL4CNcnZrmdM"
   },
   "outputs": [],
   "source": [
    "import matplotlib.pyplot as plt\n",
    "from wordcloud import WordCloud\n",
    "from sklearn.datasets import fetch_20newsgroups\n",
    "from sklearn.feature_extraction.text import TfidfVectorizer\n",
    "from sklearn.model_selection import train_test_split\n",
    "from sklearn.naive_bayes import MultinomialNB\n",
    "from sklearn.metrics import classification_report, accuracy_score"
   ]
  },
  {
   "cell_type": "markdown",
   "metadata": {
    "id": "SN0kc-JAPT7o"
   },
   "source": [
    "Loading the dataset and displaying sample of data"
   ]
  },
  {
   "cell_type": "code",
   "execution_count": 15,
   "metadata": {
    "colab": {
     "base_uri": "https://localhost:8080/"
    },
    "id": "0ugOPGYROtqp",
    "outputId": "e09cdd52-b32a-4b32-bb2e-a76cd887f93c"
   },
   "outputs": [
    {
     "name": "stdout",
     "output_type": "stream",
     "text": [
      "First few data samples:\n",
      "\n",
      "Sample 1:\n",
      "I'm certainly no engineer and really have no scientific basis\n",
      "on which to make this argument, but don't you answer your own\n",
      "question?  Is the reflected signal \"shifted\" at all from the\n",
      "act of being reflected?  If so, wouldn't it then be easy for\n",
      "the detector to discriminate between reflections and d...\n",
      "--------------------------------------------------------------------------------\n",
      "\n",
      "Sample 2:\n",
      "\n",
      "BULLSHIT. How many lakes have ceased to be able to support life from\n",
      "purely natural pollution? Man has already done this to scores of lakes.\n",
      "Also, much of the \"degredation\" you cite was done by cows and pigs.\n",
      "\n",
      "And why do think there are so many cows around?\n",
      "\n",
      "Could it be.......cause people raise the...\n",
      "--------------------------------------------------------------------------------\n",
      "\n",
      "Sample 3:\n",
      "# #However, monogamous homosexual male sex is so rare that for practical\n",
      "# #purposes, homosexuality spreads AIDS.\n",
      "# #-- \n",
      "# #Clayton E. Cramer {uunet,pyramid}!optilink!cramer  My opinions, all mine!\n",
      "# #Relations between people to be by mutual consent, or not at all.\n",
      "\n",
      "# You fucking homophobic moron!!!...\n",
      "--------------------------------------------------------------------------------\n",
      "\n"
     ]
    }
   ],
   "source": [
    "categories = ['rec.autos', 'sci.med', 'comp.graphics', 'talk.politics.misc']  # Took subsut\n",
    "newsgroups = fetch_20newsgroups(subset='all', categories=categories, remove=('headers', 'footers', 'quotes'))\n",
    "# newsgroups = fetch_20newsgroups(subset='all', remove=('headers', 'footers', 'quotes'))\n",
    "\n",
    "print(\"First few data samples:\\n\")\n",
    "for i, sample in enumerate(newsgroups.data[:3]):\n",
    "    print(f\"Sample {i + 1}:\\n{sample[:300]}...\\n{'-'*80}\\n\")"
   ]
  },
  {
   "cell_type": "markdown",
   "metadata": {
    "id": "V9vN5GS7P3VB"
   },
   "source": [
    "Preprocessing, Word Embedding and spliting the data"
   ]
  },
  {
   "cell_type": "code",
   "execution_count": 16,
   "metadata": {
    "id": "UEjokkIqOxbQ"
   },
   "outputs": [],
   "source": [
    "X = newsgroups.data  # Text data\n",
    "y = newsgroups.target  # Labels\n",
    "\n",
    "# Convert text data to TF-IDF features\n",
    "vectorizer = TfidfVectorizer(stop_words='english', max_df=0.7)\n",
    "X_tfidf = vectorizer.fit_transform(X)\n",
    "\n",
    "# Split into train and test sets\n",
    "X_train, X_test, y_train, y_test = train_test_split(X_tfidf, y, test_size=0.3, random_state=42)"
   ]
  },
  {
   "cell_type": "markdown",
   "metadata": {
    "id": "UIdMCFiNQJxp"
   },
   "source": [
    "Training the model(Naive Bayes Classifier)"
   ]
  },
  {
   "cell_type": "code",
   "execution_count": 17,
   "metadata": {
    "colab": {
     "base_uri": "https://localhost:8080/",
     "height": 80
    },
    "id": "7P4YVDvVOz45",
    "outputId": "0b78a180-3f74-4e3e-e30b-f9c17c29a43d"
   },
   "outputs": [
    {
     "data": {
      "text/plain": [
       "MultinomialNB()"
      ]
     },
     "execution_count": 17,
     "metadata": {},
     "output_type": "execute_result"
    }
   ],
   "source": [
    "# Train the Naive Bayes classifier\n",
    "clf = MultinomialNB()\n",
    "clf.fit(X_train, y_train)"
   ]
  },
  {
   "cell_type": "markdown",
   "metadata": {
    "id": "KnLxhJ82QRlB"
   },
   "source": [
    "Evaluating the model"
   ]
  },
  {
   "cell_type": "code",
   "execution_count": 18,
   "metadata": {
    "colab": {
     "base_uri": "https://localhost:8080/"
    },
    "id": "MaiGN04TO1j5",
    "outputId": "7b2c301c-e080-4c38-a11b-78e8de7076c2"
   },
   "outputs": [
    {
     "name": "stdout",
     "output_type": "stream",
     "text": [
      "Accuracy: 0.8820375335120644\n",
      "\n",
      "Classification Report:\n",
      "                     precision    recall  f1-score   support\n",
      "\n",
      "     comp.graphics       0.89      0.94      0.92       284\n",
      "         rec.autos       0.94      0.88      0.91       305\n",
      "           sci.med       0.76      0.92      0.83       273\n",
      "talk.politics.misc       0.98      0.78      0.87       257\n",
      "\n",
      "          accuracy                           0.88      1119\n",
      "         macro avg       0.89      0.88      0.88      1119\n",
      "      weighted avg       0.89      0.88      0.88      1119\n",
      "\n"
     ]
    }
   ],
   "source": [
    "y_pred = clf.predict(X_test)\n",
    "\n",
    "print(\"Accuracy:\", accuracy_score(y_test, y_pred))\n",
    "print(\"\\nClassification Report:\\n\", classification_report(y_test, y_pred, target_names=newsgroups.target_names))"
   ]
  },
  {
   "cell_type": "code",
   "execution_count": 19,
   "metadata": {
    "colab": {
     "base_uri": "https://localhost:8080/",
     "height": 666
    },
    "id": "CENdqE-uQj8N",
    "outputId": "b9e89871-b81d-48ff-bdff-63acf465e60d"
   },
   "outputs": [
    {
     "data": {
      "image/png": "[encoded data removed]",
      "text/plain": [
       "<Figure size 864x432 with 1 Axes>"
      ]
     },
     "metadata": {
      "needs_background": "light"
     },
     "output_type": "display_data"
    }
   ],
   "source": [
    "# Generate the classification report as a dictionary\n",
    "report = classification_report(y_test, y_pred, target_names=newsgroups.target_names, output_dict=True)\n",
    "\n",
    "# Extract metrics for each class\n",
    "classes = newsgroups.target_names\n",
    "precision = [report[cls]['precision'] for cls in classes]\n",
    "recall = [report[cls]['recall'] for cls in classes]\n",
    "f1 = [report[cls]['f1-score'] for cls in classes]\n",
    "\n",
    "# Plot class-wise performance as a bar chart\n",
    "x = range(len(classes))\n",
    "\n",
    "fig, ax = plt.subplots(figsize=(12, 6))\n",
    "\n",
    "# Plot precision, recall, and F1 for each class\n",
    "bar_width = 0.2  # Width of bars\n",
    "\n",
    "plt.bar([i - bar_width for i in x], precision, width=bar_width, label='Precision')\n",
    "plt.bar([i for i in x], recall, width=bar_width, label='Recall')\n",
    "plt.bar([i + bar_width for i in x], f1, width=bar_width, label='F1 Score')\n",
    "\n",
    "plt.xticks(list(x), classes, rotation=90)\n",
    "plt.title('Class-wise Performance Metrics')\n",
    "plt.xlabel('Classes')\n",
    "plt.ylabel('Scores')\n",
    "plt.legend()\n",
    "\n",
    "# Show the plot\n",
    "plt.show()\n"
   ]
  },
  {
   "cell_type": "code",
   "execution_count": null,
   "metadata": {},
   "outputs": [],
   "source": []
  }
 ],
 "metadata": {
  "colab": {
   "provenance": []
  },
  "kernelspec": {
   "display_name": "Python 3 (ipykernel)",
   "language": "python",
   "name": "python3"
  },
  "language_info": {
   "codemirror_mode": {
    "name": "ipython",
    "version": 3
   },
   "file_extension": ".py",
   "mimetype": "text/x-python",
   "name": "python",
   "nbconvert_exporter": "python",
   "pygments_lexer": "ipython3",
   "version": "3.9.12"
  }
 },
 "nbformat": 4,
 "nbformat_minor": 1
}
